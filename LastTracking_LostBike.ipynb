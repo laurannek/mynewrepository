{
 "cells": [
  {
   "cell_type": "markdown",
   "metadata": {},
   "source": [
    "# Find last tracking point of lost bikes"
   ]
  },
  {
   "cell_type": "markdown",
   "metadata": {},
   "source": [
    "---"
   ]
  },
  {
   "cell_type": "code",
   "execution_count": 195,
   "metadata": {},
   "outputs": [],
   "source": [
    "import pandas as pd\n",
    "from google.cloud import storage\n",
    "import pickle\n",
    "# get raw data from gs\n",
    "gs = storage.Client(project='fleets-production')\n",
    "bucket = gs.bucket('noa-kraken-production')"
   ]
  },
  {
   "cell_type": "code",
   "execution_count": 196,
   "metadata": {},
   "outputs": [],
   "source": [
    "import quickavro\n",
    "from io import BytesIO\n",
    "from datetime import datetime, timedelta\n",
    "\n",
    "def get_trackings_day(bucket, import_date):\n",
    "    \"\"\"Get avro file of trackings of a single day and return as pandas DF.\"\"\"\n",
    "    # get raw data from gs\n",
    "    file_path = 'trackings/{import_date}.avro'.format(import_date=import_date)\n",
    "    blob = bucket.blob(file_path)\n",
    "    trips_day = blob.download_as_string()\n",
    "\n",
    "    # convert to pandas dataframe\n",
    "    with quickavro.FileReader(BytesIO(trips_day)) as reader:\n",
    "        records = []\n",
    "        for record in reader.records():\n",
    "            records.append(record)\n",
    "\n",
    "    return pd.DataFrame(records).drop_duplicates('uuid')"
   ]
  },
  {
   "cell_type": "code",
   "execution_count": 197,
   "metadata": {},
   "outputs": [],
   "source": [
    "#Make a list of lost bikes - bikes uuid that were emitting signals on date 1 and that were not emitting signals anymore on date 2\n",
    "# ! Have to code ! something more elaborate to identify lost bikes\n",
    "trackings1= get_trackings_day(bucket, '2017-10-11')\n",
    "trackings2= get_trackings_day(bucket, '2017-11-30')\n",
    "bikes1= pd.DataFrame(trackings1.bicycle_uuid.unique().tolist(), columns={'bicycle_uuid'})\n",
    "bikes2= pd.DataFrame(trackings2.bicycle_uuid.unique().tolist(), columns={'bicycle_uuid'})\n",
    "Bikeslost=list(set([b[0] for b in bikes1.values.tolist()]) - set([b[0] for b in bikes2.values.tolist()]))"
   ]
  },
  {
   "cell_type": "code",
   "execution_count": 198,
   "metadata": {},
   "outputs": [
    {
     "name": "stderr",
     "output_type": "stream",
     "text": [
      "/Users/lauranne/anaconda3/lib/python3.6/site-packages/ipykernel_launcher.py:19: SettingWithCopyWarning:\n",
      "\n",
      "\n",
      "A value is trying to be set on a copy of a slice from a DataFrame.\n",
      "Try using .loc[row_indexer,col_indexer] = value instead\n",
      "\n",
      "See the caveats in the documentation: http://pandas.pydata.org/pandas-docs/stable/indexing.html#indexing-view-versus-copy\n",
      "\n"
     ]
    }
   ],
   "source": [
    "#Get Trackings between certain date range \n",
    "list_of_dfs = []\n",
    "for d in pd.date_range('2017-10-11', '2017-11-30'):\n",
    "    try:\n",
    "        list_of_dfs.append(get_trackings_day(bucket, d.date()))\n",
    "    except ValueError:\n",
    "        pass\n",
    "\n",
    "#Concatenate Trackings in one Dataframe\n",
    "Df_Trackings=pd.concat(list_of_dfs, axis=0)\n",
    "\n",
    "#Filter the Organization (In this case = Google)\n",
    "Df_Trackings_Google=Df_Trackings[Df_Trackings.organization_uuid=='87d12b17-628a-425d-8070-4898f4d395be']\n",
    "\n",
    "#Get the trackings of bikes lost\n",
    "Tracking_Bikeslost= Df_Trackings_Google [Df_Trackings_Google.bicycle_uuid.isin(Bikeslost)]\n",
    "\n",
    "#Change the timestamp format of 'timestamp'\n",
    "Tracking_Bikeslost['timestamp']= pd.to_datetime(Tracking_Bikeslost['timestamp'], unit='us')"
   ]
  },
  {
   "cell_type": "code",
   "execution_count": 199,
   "metadata": {},
   "outputs": [],
   "source": [
    "#Reset Index - Trackings of lost bikes within selected time frame\n",
    "Tracking_Bikeslost=Tracking_Bikeslost.reset_index(drop=True)"
   ]
  },
  {
   "cell_type": "code",
   "execution_count": 200,
   "metadata": {},
   "outputs": [
    {
     "data": {
      "text/plain": [
       "133"
      ]
     },
     "execution_count": 200,
     "metadata": {},
     "output_type": "execute_result"
    }
   ],
   "source": [
    "#Number of lost bikes after a certain *date* within the defined ## date range ##\n",
    "len(Tracking_Bikeslost[Tracking_Bikeslost['timestamp']> '2017-10-11 00:00:00.000'].bicycle_uuid.unique())"
   ]
  },
  {
   "cell_type": "code",
   "execution_count": 201,
   "metadata": {},
   "outputs": [],
   "source": [
    "#Last point in time when tracking signal with location occured for each of the lost bikes \n",
    "Last_track= Tracking_Bikeslost[Tracking_Bikeslost['latitude'].notnull()&Tracking_Bikeslost['longitude'].notnull()].groupby(['bicycle_uuid'])['timestamp'].max().to_frame().reset_index()"
   ]
  },
  {
   "cell_type": "code",
   "execution_count": 202,
   "metadata": {},
   "outputs": [
    {
     "data": {
      "text/plain": [
       "102"
      ]
     },
     "execution_count": 202,
     "metadata": {},
     "output_type": "execute_result"
    }
   ],
   "source": [
    "#Number of Bikes that did send (not null) coordinates in their last tracking signals \\\\ - others present null coordinates\n",
    "### Only a few bikes have coordinates - !!NEED TO FIND LAST TRACKING TIMES WITH COORDINATES NOT NULL\n",
    "len(Last_track)"
   ]
  },
  {
   "cell_type": "code",
   "execution_count": 203,
   "metadata": {},
   "outputs": [],
   "source": [
    "#Last tracking point(s) coordinates\n",
    "Last_track_coord= pd.merge(Last_track, Tracking_Bikeslost, on='timestamp', how='left')"
   ]
  },
  {
   "cell_type": "code",
   "execution_count": 204,
   "metadata": {},
   "outputs": [
    {
     "data": {
      "text/plain": [
       "0.7669172932330827"
      ]
     },
     "execution_count": 204,
     "metadata": {},
     "output_type": "execute_result"
    }
   ],
   "source": [
    "#Percentage of lost bikes that sent a location during their last tracking point in time \n",
    "##Please change the date to the start date of ## date range ##\n",
    "len(Last_track)/len(Tracking_Bikeslost[Tracking_Bikeslost['timestamp']> '2017-10-11 00:00:00.000'].bicycle_uuid.unique())"
   ]
  },
  {
   "cell_type": "code",
   "execution_count": 205,
   "metadata": {},
   "outputs": [],
   "source": [
    "#Double check to eliminate null coordinates(some coordinates appeared to be null after the preceding steps)\n",
    "Last_track_coord=Last_track_coord[Last_track_coord['latitude'].notnull()&Last_track_coord['longitude'].notnull()].reset_index()"
   ]
  },
  {
   "cell_type": "code",
   "execution_count": 206,
   "metadata": {},
   "outputs": [
    {
     "name": "stdout",
     "output_type": "stream",
     "text": [
      "High five! You successfully sent some data to your account on plotly. View your plot in your browser at https://plot.ly/~laurannek/0 or inside your plot.ly account where it is named 'MultipleMapbox'\n"
     ]
    },
    {
     "data": {
      "text/html": [
       "<iframe id=\"igraph\" scrolling=\"no\" style=\"border:none;\" seamless=\"seamless\" src=\"https://plot.ly/~laurannek/0.embed\" height=\"525px\" width=\"100%\"></iframe>"
      ],
      "text/plain": [
       "<plotly.tools.PlotlyDisplay object>"
      ]
     },
     "execution_count": 206,
     "metadata": {},
     "output_type": "execute_result"
    }
   ],
   "source": [
    "import plotly.plotly as py\n",
    "from plotly.graph_objs import *\n",
    "\n",
    "mapbox_access_token = 'pk.eyJ1IjoiYWxleC1ub2EiLCJhIjoiY2o3cWNtMXVyM3dlNjMzbWw5dnZncWJybSJ9.xz2KJBUshA8Enty1rmasqA'\n",
    "\n",
    "data = Data([\n",
    "    Scattermapbox(\n",
    "        lat=Last_track_coord['latitude'].tolist(),\n",
    "        lon=Last_track_coord['longitude'].tolist(),\n",
    "        mode='markers',\n",
    "        marker=Marker(\n",
    "            size=9\n",
    "        ) ,\n",
    "        text=Last_track_coord['bicycle_uuid_x'].tolist(),\n",
    "    )\n",
    "])\n",
    "layout = Layout(\n",
    "    autosize=True,\n",
    "    hovermode='closest',\n",
    "    mapbox=dict(\n",
    "        accesstoken=mapbox_access_token,\n",
    "        bearing=0,\n",
    "        center=dict(\n",
    "            lat=37.423059,\n",
    "            lon=-122.094755\n",
    "        ),\n",
    "        pitch=0,\n",
    "        zoom=10\n",
    "    ),\n",
    ")\n",
    "\n",
    "fig = dict(data=data, layout=layout)\n",
    "py.iplot(fig, filename='MultipleMapbox')"
   ]
  },
  {
   "cell_type": "markdown",
   "metadata": {},
   "source": [
    "### Notes\n",
    "1. \n",
    "2. "
   ]
  },
  {
   "cell_type": "code",
   "execution_count": null,
   "metadata": {},
   "outputs": [],
   "source": []
  }
 ],
 "metadata": {
  "kernelspec": {
   "display_name": "Python 3",
   "language": "python",
   "name": "python3"
  },
  "language_info": {
   "codemirror_mode": {
    "name": "ipython",
    "version": 3
   },
   "file_extension": ".py",
   "mimetype": "text/x-python",
   "name": "python",
   "nbconvert_exporter": "python",
   "pygments_lexer": "ipython3",
   "version": "3.6.4"
  }
 },
 "nbformat": 4,
 "nbformat_minor": 2
}
