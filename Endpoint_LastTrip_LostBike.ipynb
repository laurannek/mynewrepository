{
 "cells": [
  {
   "cell_type": "markdown",
   "metadata": {},
   "source": [
    "# Find endpoint of last trip of lost bikes"
   ]
  },
  {
   "cell_type": "markdown",
   "metadata": {},
   "source": [
    "---"
   ]
  },
  {
   "cell_type": "code",
   "execution_count": 58,
   "metadata": {},
   "outputs": [],
   "source": [
    "import pandas as pd\n",
    "from google.cloud import storage\n",
    "import pickle\n",
    "# get raw data from gs\n",
    "gs = storage.Client(project='fleets-production')\n",
    "bucket = gs.bucket('noa-kraken-production')"
   ]
  },
  {
   "cell_type": "code",
   "execution_count": 59,
   "metadata": {},
   "outputs": [],
   "source": [
    "import quickavro\n",
    "from io import BytesIO\n",
    "from datetime import datetime, timedelta\n",
    "\n",
    "def get_trips_day(bucket, import_date):\n",
    "    \"\"\"Get avro file of trips of a single day and return as pandas DF.\"\"\"\n",
    "    # get raw data from gs\n",
    "    file_path = 'trips/{import_date}.avro'.format(import_date=import_date)\n",
    "    blob = bucket.blob(file_path)\n",
    "    trips_day = blob.download_as_string()\n",
    "\n",
    "    # convert to pandas dataframe\n",
    "    with quickavro.FileReader(BytesIO(trips_day)) as reader:\n",
    "        records = []\n",
    "        for record in reader.records():\n",
    "            records.append(record)\n",
    "\n",
    "    return pd.DataFrame(records).drop_duplicates('uuid')\n"
   ]
  },
  {
   "cell_type": "code",
   "execution_count": 60,
   "metadata": {},
   "outputs": [],
   "source": [
    "#Make a list of lost bikes - bikes uuid that were emitting signals on date 1 and that were not emitting signals anymore on date 2\n",
    "# ! Have to code ! something more elaborate to identify lost bikes\n",
    "trackings1= get_trackings_day(bucket, '2017-10-11')\n",
    "trackings2= get_trackings_day(bucket, '2017-11-30')\n",
    "bikes1= pd.DataFrame(trackings1.bicycle_uuid.unique().tolist(), columns={'bicycle_uuid'})\n",
    "bikes2= pd.DataFrame(trackings2.bicycle_uuid.unique().tolist(), columns={'bicycle_uuid'})\n",
    "Bikeslost=list(set([b[0] for b in bikes1.values.tolist()]) - set([b[0] for b in bikes2.values.tolist()]))"
   ]
  },
  {
   "cell_type": "code",
   "execution_count": 61,
   "metadata": {},
   "outputs": [
    {
     "name": "stderr",
     "output_type": "stream",
     "text": [
      "/Users/lauranne/anaconda3/lib/python3.6/site-packages/ipykernel_launcher.py:19: SettingWithCopyWarning:\n",
      "\n",
      "\n",
      "A value is trying to be set on a copy of a slice from a DataFrame.\n",
      "Try using .loc[row_indexer,col_indexer] = value instead\n",
      "\n",
      "See the caveats in the documentation: http://pandas.pydata.org/pandas-docs/stable/indexing.html#indexing-view-versus-copy\n",
      "\n"
     ]
    }
   ],
   "source": [
    "#Get Trips between certain date range \n",
    "list_of_dfs_trips = []\n",
    "for d in pd.date_range('2017-10-11', '2017-11-30'):\n",
    "    try:\n",
    "        list_of_dfs_trips.append(get_trips_day(bucket, d.date()))\n",
    "    except ValueError:\n",
    "        pass\n",
    "    \n",
    "#Concatenate Trackings in one Dataframe\n",
    "Df_Trips=pd.concat(list_of_dfs_trips, axis=0)\n",
    "\n",
    "#Filter the Organization (In this case = Google)\n",
    "Df_Trips_Google=Df_Trips[Df_Trips.organization_uuid=='87d12b17-628a-425d-8070-4898f4d395be']\n",
    "\n",
    "#Get the trackings of bikes lost\n",
    "Df_Trips_Google_lost_bikes= Df_Trips_Google[Df_Trips_Google.bicycle_uuid.isin(Bikeslost)]\n",
    "\n",
    "#Change the timestamp format of 'ended'\n",
    "Df_Trips_Google_lost_bikes['ended']= pd.to_datetime(Df_Trips_Google_lost_bikes['ended'], unit='us')"
   ]
  },
  {
   "cell_type": "code",
   "execution_count": 62,
   "metadata": {},
   "outputs": [],
   "source": [
    "#Reset Index - Trips of lost bikes within selected time range\n",
    "Df_Trips_Google_lost_bikes=Df_Trips_Google_lost_bikes.reset_index(drop=True)"
   ]
  },
  {
   "cell_type": "code",
   "execution_count": 63,
   "metadata": {},
   "outputs": [
    {
     "data": {
      "text/plain": [
       "165"
      ]
     },
     "execution_count": 63,
     "metadata": {},
     "output_type": "execute_result"
    }
   ],
   "source": [
    "len(Bikeslost)"
   ]
  },
  {
   "cell_type": "code",
   "execution_count": 64,
   "metadata": {},
   "outputs": [
    {
     "data": {
      "text/plain": [
       "107"
      ]
     },
     "execution_count": 64,
     "metadata": {},
     "output_type": "execute_result"
    }
   ],
   "source": [
    "#Number of lost bikes after a certain *date* within the defined ## date range ##\n",
    "len(Df_Trips_Google_lost_bikes[Df_Trips_Google_lost_bikes['ended']> '2017-10-11 00:00:00.000'].bicycle_uuid.unique())"
   ]
  },
  {
   "cell_type": "code",
   "execution_count": 65,
   "metadata": {},
   "outputs": [],
   "source": [
    "#Last trip for each of the lost bikes \n",
    "Last_trip= Df_Trips_Google_lost_bikes.groupby(['bicycle_uuid'])['ended'].max().to_frame().reset_index()"
   ]
  },
  {
   "cell_type": "code",
   "execution_count": 66,
   "metadata": {},
   "outputs": [],
   "source": [
    "#Last trips of lost bikes dataframe\n",
    "last_trips_lost_bikes= pd.merge(Last_trip, Df_Trips_Google_lost_bikes, on='ended', how='left')"
   ]
  },
  {
   "cell_type": "code",
   "execution_count": 67,
   "metadata": {},
   "outputs": [],
   "source": [
    "#Get the locations of the endpoint of the last trip of each lost bike\n",
    "last_loc=[]\n",
    "for i in range(len(last_trips_lost_bikes.route)):\n",
    "          last_trip= last_trips_lost_bikes['route'].iloc[i]\n",
    "          last_loc.append(last_trip[-1:])"
   ]
  },
  {
   "cell_type": "code",
   "execution_count": 68,
   "metadata": {},
   "outputs": [],
   "source": [
    "#Make 2 separate lists for latitude and longitude to integrate them in plotly\n",
    "latitude_list=[]\n",
    "longitude_list=[]\n",
    "for i in range(len(last_loc)):\n",
    "    if len(last_loc[i]) ==0:\n",
    "        pass\n",
    "    else:\n",
    "        lati=last_loc[i][0].get('latitude')\n",
    "        latitude_list.append(lati)\n",
    "        long=last_loc[i][0].get('longitude')\n",
    "        longitude_list.append(long)"
   ]
  },
  {
   "cell_type": "code",
   "execution_count": 69,
   "metadata": {},
   "outputs": [
    {
     "name": "stdout",
     "output_type": "stream",
     "text": [
      "High five! You successfully sent some data to your account on plotly. View your plot in your browser at https://plot.ly/~laurannek/0 or inside your plot.ly account where it is named 'MultipleMapbox'\n"
     ]
    },
    {
     "data": {
      "text/html": [
       "<iframe id=\"igraph\" scrolling=\"no\" style=\"border:none;\" seamless=\"seamless\" src=\"https://plot.ly/~laurannek/0.embed\" height=\"525px\" width=\"100%\"></iframe>"
      ],
      "text/plain": [
       "<plotly.tools.PlotlyDisplay object>"
      ]
     },
     "execution_count": 69,
     "metadata": {},
     "output_type": "execute_result"
    }
   ],
   "source": [
    "#Map the locations of the endpoints of the last trip of lost bikes\n",
    "import plotly.plotly as py\n",
    "from plotly.graph_objs import *\n",
    "\n",
    "mapbox_access_token = 'pk.eyJ1IjoiYWxleC1ub2EiLCJhIjoiY2o3cWNtMXVyM3dlNjMzbWw5dnZncWJybSJ9.xz2KJBUshA8Enty1rmasqA'\n",
    "\n",
    "data = Data([\n",
    "    Scattermapbox(\n",
    "        lat=latitude_list,\n",
    "        lon=longitude_list,\n",
    "        mode='markers',\n",
    "        marker=Marker(\n",
    "            size=9\n",
    "        ) #,\n",
    "        #text=Df_Trackings_Google[Df_Trackings_Google.bicycle_uuid.isin(Bikeslost)]['bicycle_uuid'],\n",
    "    )\n",
    "])\n",
    "layout = Layout(\n",
    "    autosize=True,\n",
    "    hovermode='closest',\n",
    "    mapbox=dict(\n",
    "        accesstoken=mapbox_access_token,\n",
    "        bearing=0,\n",
    "        center=dict(\n",
    "            lat=37.423059,\n",
    "            lon=-122.094755\n",
    "        ),\n",
    "        pitch=0,\n",
    "        zoom=10\n",
    "    ),\n",
    ")\n",
    "\n",
    "fig = dict(data=data, layout=layout)\n",
    "py.iplot(fig, filename='MultipleMapbox')"
   ]
  },
  {
   "cell_type": "code",
   "execution_count": null,
   "metadata": {},
   "outputs": [],
   "source": []
  }
 ],
 "metadata": {
  "kernelspec": {
   "display_name": "Python 3",
   "language": "python",
   "name": "python3"
  },
  "language_info": {
   "codemirror_mode": {
    "name": "ipython",
    "version": 3
   },
   "file_extension": ".py",
   "mimetype": "text/x-python",
   "name": "python",
   "nbconvert_exporter": "python",
   "pygments_lexer": "ipython3",
   "version": "3.6.4"
  }
 },
 "nbformat": 4,
 "nbformat_minor": 2
}
